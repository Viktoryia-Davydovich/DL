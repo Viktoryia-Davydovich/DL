{
 "cells": [
  {
   "cell_type": "code",
   "execution_count": 1,
   "metadata": {},
   "outputs": [],
   "source": [
    "import math\n",
    "import numpy as np\n",
    "from scipy import optimize as opt"
   ]
  },
  {
   "cell_type": "code",
   "execution_count": 3,
   "metadata": {},
   "outputs": [],
   "source": [
    "def optimized_function(x):\n",
    "    result = 837.9657 - x[0]*math.sin(math.sqrt(abs(x[0]))) - x[1]*math.sin(math.sqrt(abs(x[1])))\n",
    "    return result"
   ]
  },
  {
   "cell_type": "code",
   "execution_count": 4,
   "metadata": {},
   "outputs": [],
   "source": [
    "class AnnealCustom:\n",
    "    def __init__(self, bounds, max_iterations = 3000):\n",
    "        self.max_iterations = max_iterations\n",
    "        self.bounds = np.array(bounds)\n",
    "        \n",
    "    def random_point(self):\n",
    "        x = np.random.uniform(self.bounds[0][0], self.bounds[0][1])\n",
    "        y = np.random.uniform(self.bounds[1][0], self.bounds[1][1])\n",
    "        rand_point = np.array([x,y])\n",
    "        return rand_point\n",
    "        \n",
    "    # function defining the probabily of state change, descreases on temperature decreasing\n",
    "    def probability(self, energy_diff, temperature):\n",
    "        energy_diff_by_temp = energy_diff / temperature\n",
    "        if energy_diff_by_temp < 0:\n",
    "            return math.exp(energy_diff_by_temp)\n",
    "        return math.exp(-1 * energy_diff_by_temp)\n",
    "        \n",
    "    # fun changing temperature using Bolzman annealing alg (can be raplaced by Koshi, etc)\n",
    "    def change_temperature(self, iteration_step, temperature):\n",
    "        return temperature / math.log(1 + iteration_step)\n",
    "    \n",
    "    def anneal(self, optimized_function, initial_temp = 5230.):      \n",
    "        # random initial point\n",
    "        curr_point = self.random_point()\n",
    "        temperature = initial_temp\n",
    "        \n",
    "        for iteration in range(self.max_iterations):\n",
    "            # decreasing temperature\n",
    "            if iteration >= 1:\n",
    "                temperature = self.change_temperature(iteration, temperature)\n",
    "            \n",
    "            # randomly choosing next point\n",
    "            next_point = self.random_point()\n",
    "            \n",
    "            # counting difference in energies and deciding if we change current state based on probability\n",
    "            energy_diff = optimized_function(next_point) - optimized_function(curr_point)\n",
    "            prob = self.probability(energy_diff, temperature)\n",
    "            if energy_diff < 0 or prob >= np.random.uniform(0,1):\n",
    "                curr_point = next_point\n",
    "        print(f\"x: {curr_point}\\nfun: {optimized_function(curr_point)}\")"
   ]
  },
  {
   "cell_type": "code",
   "execution_count": 5,
   "metadata": {},
   "outputs": [],
   "source": [
    "my_anneal = AnnealCustom(((-500,500), (-500,500)))"
   ]
  },
  {
   "cell_type": "code",
   "execution_count": 7,
   "metadata": {},
   "outputs": [
    {
     "name": "stdout",
     "output_type": "stream",
     "text": [
      "x: [408.6991261  417.94250538]\n",
      "fun: 19.915802761972714\n"
     ]
    },
    {
     "name": "stderr",
     "output_type": "stream",
     "text": [
      "C:\\Users\\Viktoryia.Davydovich\\AppData\\Local\\Continuum\\anaconda3\\lib\\site-packages\\ipykernel_launcher.py:14: RuntimeWarning: overflow encountered in double_scalars\n",
      "  \n",
      "C:\\Users\\Viktoryia.Davydovich\\AppData\\Local\\Continuum\\anaconda3\\lib\\site-packages\\ipykernel_launcher.py:14: RuntimeWarning: divide by zero encountered in double_scalars\n",
      "  \n"
     ]
    }
   ],
   "source": [
    "a = my_anneal.anneal(optimized_function)"
   ]
  },
  {
   "cell_type": "code",
   "execution_count": null,
   "metadata": {},
   "outputs": [],
   "source": []
  },
  {
   "cell_type": "code",
   "execution_count": null,
   "metadata": {},
   "outputs": [],
   "source": []
  }
 ],
 "metadata": {
  "kernelspec": {
   "display_name": "Python 3",
   "language": "python",
   "name": "python3"
  },
  "language_info": {
   "codemirror_mode": {
    "name": "ipython",
    "version": 3
   },
   "file_extension": ".py",
   "mimetype": "text/x-python",
   "name": "python",
   "nbconvert_exporter": "python",
   "pygments_lexer": "ipython3",
   "version": "3.7.3"
  }
 },
 "nbformat": 4,
 "nbformat_minor": 2
}
