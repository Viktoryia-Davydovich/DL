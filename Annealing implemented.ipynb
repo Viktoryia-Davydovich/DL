{
 "cells": [
  {
   "cell_type": "code",
   "execution_count": 9,
   "metadata": {},
   "outputs": [],
   "source": [
    "import math\n",
    "import numpy as np\n",
    "from scipy import optimize as opt"
   ]
  },
  {
   "cell_type": "code",
   "execution_count": 10,
   "metadata": {},
   "outputs": [],
   "source": [
    "def F(x):\n",
    "    result = 837.9657 - x[0]*math.sin(math.sqrt(abs(x[0]))) - x[1]*math.sin(math.sqrt(abs(x[1])))\n",
    "    return result"
   ]
  },
  {
   "cell_type": "code",
   "execution_count": 50,
   "metadata": {},
   "outputs": [],
   "source": [
    "class AnnealCustom:\n",
    "    def __init__(self, bounds, k_max = 1000):\n",
    "        self.k_max = k_max\n",
    "        self.bounds = np.array(bounds)\n",
    "        \n",
    "    def random_point(self):\n",
    "        x = np.random.uniform(self.bounds[0][0], self.bounds[0][1])\n",
    "        y = np.random.uniform(self.bounds[1][0], self.bounds[1][1])\n",
    "        rand_point = np.array([x,y])\n",
    "        return rand_point\n",
    "        \n",
    "    # function defining the probabily of state change, descreases on temperature decreasing\n",
    "    def P(self, energy_diff, T):\n",
    "        enByT = energy_diff / T\n",
    "        if enByT < 0:\n",
    "            return math.exp(enByT)\n",
    "        return math.exp(-1 * enByT)\n",
    "        \n",
    "    # fun changing temperature using Bolzman annealing alg (can be raplaced by Koshi, etc)\n",
    "    def change_T(self, k, T):\n",
    "        return T / math.log(1 + k)\n",
    "    \n",
    "    def anneal(self, F, initial_temp = 5230.):      \n",
    "        # random initial point\n",
    "        curr_point = self.random_point()\n",
    "        temperature = initial_temp\n",
    "        \n",
    "        for k in range(self.k_max):\n",
    "            # decreasing temperature\n",
    "            if k >= 1:\n",
    "                temperature = self.change_T(k, temperature)\n",
    "            \n",
    "            # randomly choosing next point\n",
    "            next_point = self.random_point()\n",
    "            \n",
    "            # counting difference in energies and deciding if we change current state based on probability\n",
    "            energy_diff = F(next_point) - F(curr_point)\n",
    "            prob = self.P(energy_diff, temperature)\n",
    "            if energy_diff < 0 or prob >= np.random.uniform(0,1):\n",
    "                curr_point = next_point\n",
    "        print(f\"x: {curr_point}\\nfun: {F(curr_point)}\")"
   ]
  },
  {
   "cell_type": "code",
   "execution_count": 53,
   "metadata": {},
   "outputs": [],
   "source": [
    "my_anneal = AnnealCustom(((-500,500), (-500,500)))"
   ]
  },
  {
   "cell_type": "code",
   "execution_count": 59,
   "metadata": {},
   "outputs": [
    {
     "name": "stdout",
     "output_type": "stream",
     "text": [
      "x: [416.86627897 416.20244894]\n",
      "fun: 4.976518048809112\n"
     ]
    },
    {
     "name": "stderr",
     "output_type": "stream",
     "text": [
      "C:\\Users\\Viktoryia.Davydovich\\AppData\\Local\\Continuum\\anaconda3\\lib\\site-packages\\ipykernel_launcher.py:14: RuntimeWarning: overflow encountered in double_scalars\n",
      "  \n",
      "C:\\Users\\Viktoryia.Davydovich\\AppData\\Local\\Continuum\\anaconda3\\lib\\site-packages\\ipykernel_launcher.py:14: RuntimeWarning: divide by zero encountered in double_scalars\n",
      "  \n"
     ]
    }
   ],
   "source": [
    "a = my_anneal.anneal(F)"
   ]
  },
  {
   "cell_type": "code",
   "execution_count": null,
   "metadata": {},
   "outputs": [],
   "source": []
  },
  {
   "cell_type": "code",
   "execution_count": null,
   "metadata": {},
   "outputs": [],
   "source": []
  }
 ],
 "metadata": {
  "kernelspec": {
   "display_name": "Python 3",
   "language": "python",
   "name": "python3"
  },
  "language_info": {
   "codemirror_mode": {
    "name": "ipython",
    "version": 3
   },
   "file_extension": ".py",
   "mimetype": "text/x-python",
   "name": "python",
   "nbconvert_exporter": "python",
   "pygments_lexer": "ipython3",
   "version": "3.7.3"
  }
 },
 "nbformat": 4,
 "nbformat_minor": 2
}
