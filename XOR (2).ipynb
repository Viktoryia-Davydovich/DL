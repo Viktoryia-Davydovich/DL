{
 "cells": [
  {
   "cell_type": "code",
   "execution_count": 51,
   "metadata": {},
   "outputs": [],
   "source": [
    "import tensorflow as tf\n",
    "import numpy as np"
   ]
  },
  {
   "cell_type": "code",
   "execution_count": 140,
   "metadata": {},
   "outputs": [],
   "source": [
    "X = np.array([[1,0],[0,1],[0,0],[1,1]])\n",
    "y = np.array([[1],[1],[0],[0]])"
   ]
  },
  {
   "cell_type": "code",
   "execution_count": 141,
   "metadata": {},
   "outputs": [],
   "source": [
    "learn_rate = 0.1\n",
    "epochs = 500"
   ]
  },
  {
   "cell_type": "code",
   "execution_count": 142,
   "metadata": {},
   "outputs": [],
   "source": [
    "phX = tf.placeholder(tf.float32, shape=[4,2])\n",
    "phY = tf.placeholder(tf.float32, shape=[4,1])"
   ]
  },
  {
   "cell_type": "code",
   "execution_count": 143,
   "metadata": {},
   "outputs": [],
   "source": [
    "def forward_fun(x,w1,w2, b1,b2,train=True):\n",
    "    Z = tf.nn.sigmoid(tf.matmul(x,w1) + b1)\n",
    "    Z2 = tf.matmul(Z,w2) + b2\n",
    "    if train:\n",
    "        return Z2\n",
    "    return tf.nn.sigmoid(Z2)"
   ]
  },
  {
   "cell_type": "code",
   "execution_count": 144,
   "metadata": {},
   "outputs": [],
   "source": [
    "def assign_weights(shape):\n",
    "    return tf.Variable(tf.random_normal(shape, stddev=0.1))"
   ]
  },
  {
   "cell_type": "code",
   "execution_count": 152,
   "metadata": {},
   "outputs": [],
   "source": [
    "w1 = assign_weights([2,3])\n",
    "w2 = assign_weights([3,1])\n",
    "b1 = assign_weights([3])\n",
    "b2 = assign_weights([1])"
   ]
  },
  {
   "cell_type": "code",
   "execution_count": 153,
   "metadata": {},
   "outputs": [],
   "source": [
    "y_hat = forward_fun(phX, w1,w2,b1,b2)\n",
    "preds = forward_fun(phX, w1,w2,b1,b2,False)"
   ]
  },
  {
   "cell_type": "code",
   "execution_count": 154,
   "metadata": {},
   "outputs": [],
   "source": [
    "cost = tf.reduce_mean(tf.nn.sigmoid_cross_entropy_with_logits(logits=y_hat, labels=phY))"
   ]
  },
  {
   "cell_type": "code",
   "execution_count": 159,
   "metadata": {},
   "outputs": [],
   "source": [
    "train_fun = tf.train.AdamOptimizer(learn_rate).minimize(cost)"
   ]
  },
  {
   "cell_type": "code",
   "execution_count": 160,
   "metadata": {},
   "outputs": [],
   "source": [
    "init = tf.global_variables_initializer()\n",
    "sess = tf.Session()\n",
    "sess.run(init)"
   ]
  },
  {
   "cell_type": "code",
   "execution_count": 161,
   "metadata": {},
   "outputs": [
    {
     "name": "stdout",
     "output_type": "stream",
     "text": [
      "Iteration 0. Cost: 0.693914532661438\n",
      "Iteration 100. Cost: 0.027422968298196793\n",
      "Iteration 200. Cost: 0.007900829426944256\n",
      "Iteration 300. Cost: 0.004230559803545475\n",
      "Iteration 400. Cost: 0.0027189694810658693\n"
     ]
    }
   ],
   "source": [
    "for i in range(epochs):\n",
    "    sess.run(train_fun, feed_dict={phX: X, phY:y})\n",
    "    c = sess.run(cost, feed_dict={phX: X, phY:y})\n",
    "    if i % 100 == 0:\n",
    "        print(f\"Iteration {i}. Cost: {c}\")"
   ]
  },
  {
   "cell_type": "code",
   "execution_count": 162,
   "metadata": {},
   "outputs": [
    {
     "name": "stdout",
     "output_type": "stream",
     "text": [
      "Prediction: \n",
      "[[1.]\n",
      " [1.]\n",
      " [0.]\n",
      " [0.]]\n"
     ]
    }
   ],
   "source": [
    "prediction = sess.run(preds, feed_dict={phX: X})\n",
    "print(\"Prediction: \")\n",
    "print(np.round(prediction))"
   ]
  },
  {
   "cell_type": "code",
   "execution_count": null,
   "metadata": {},
   "outputs": [],
   "source": []
  },
  {
   "cell_type": "code",
   "execution_count": null,
   "metadata": {},
   "outputs": [],
   "source": []
  },
  {
   "cell_type": "code",
   "execution_count": null,
   "metadata": {},
   "outputs": [],
   "source": []
  }
 ],
 "metadata": {
  "kernelspec": {
   "display_name": "Python 3",
   "language": "python",
   "name": "python3"
  },
  "language_info": {
   "codemirror_mode": {
    "name": "ipython",
    "version": 3
   },
   "file_extension": ".py",
   "mimetype": "text/x-python",
   "name": "python",
   "nbconvert_exporter": "python",
   "pygments_lexer": "ipython3",
   "version": "3.7.3"
  }
 },
 "nbformat": 4,
 "nbformat_minor": 2
}
