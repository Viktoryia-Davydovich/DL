{
 "cells": [
  {
   "cell_type": "code",
   "execution_count": 1,
   "metadata": {},
   "outputs": [],
   "source": [
    "import tensorflow as tf\n",
    "import numpy as np"
   ]
  },
  {
   "cell_type": "code",
   "execution_count": 72,
   "metadata": {},
   "outputs": [],
   "source": [
    "learn_rate = 0.1\n",
    "epochs = 500\n",
    "sess = tf.InteractiveSession()"
   ]
  },
  {
   "cell_type": "code",
   "execution_count": 73,
   "metadata": {},
   "outputs": [],
   "source": [
    "X = np.array([[1,0],[0,1],[0,0],[1,1]])\n",
    "y = np.array([[1],[1],[0],[0]])\n",
    "phX = tf.placeholder(tf.float32, shape=[4,2])\n",
    "phY = tf.placeholder(tf.float32, shape=[4,1])"
   ]
  },
  {
   "cell_type": "code",
   "execution_count": 74,
   "metadata": {},
   "outputs": [],
   "source": [
    "def assign_weights(shape):\n",
    "    return tf.Variable(tf.random_normal(shape, stddev=0.1))"
   ]
  },
  {
   "cell_type": "code",
   "execution_count": 75,
   "metadata": {},
   "outputs": [],
   "source": [
    "w1 = assign_weights([2,3])\n",
    "w2 = assign_weights([3,1])\n",
    "b1 = assign_weights([3])\n",
    "b2 = assign_weights([1])"
   ]
  },
  {
   "cell_type": "code",
   "execution_count": 76,
   "metadata": {},
   "outputs": [],
   "source": [
    "def forward_fun(x,w1,w2, b1,b2,train=True):\n",
    "    Z = tf.nn.sigmoid(tf.matmul(x,w1) + b1)\n",
    "    Z2 = tf.matmul(Z,w2) + b2\n",
    "    if train:\n",
    "        return Z2\n",
    "    return tf.nn.sigmoid(Z2)"
   ]
  },
  {
   "cell_type": "code",
   "execution_count": 77,
   "metadata": {},
   "outputs": [],
   "source": [
    "y_hat = forward_fun(phX, w1,w2,b1,b2)\n",
    "preds = forward_fun(phX, w1,w2,b1,b2,False)"
   ]
  },
  {
   "cell_type": "code",
   "execution_count": 78,
   "metadata": {},
   "outputs": [],
   "source": [
    "cost = tf.reduce_mean(tf.nn.sigmoid_cross_entropy_with_logits(logits=y_hat, labels=phY))\n",
    "train_fun = tf.train.AdamOptimizer(learn_rate).minimize(cost)"
   ]
  },
  {
   "cell_type": "code",
   "execution_count": 79,
   "metadata": {},
   "outputs": [
    {
     "name": "stdout",
     "output_type": "stream",
     "text": [
      "Iteration 0. Cost: 0.6985931396484375\n",
      "Iteration 100. Cost: 0.023469295352697372\n",
      "Iteration 200. Cost: 0.006522840820252895\n",
      "Iteration 300. Cost: 0.003445954294875264\n",
      "Iteration 400. Cost: 0.0021992851980030537\n"
     ]
    }
   ],
   "source": [
    "tf.global_variables_initializer().run()\n",
    "\n",
    "for i in range(epochs):\n",
    "    sess.run(train_fun, feed_dict={phX: X, phY:y})\n",
    "    c = sess.run(cost, feed_dict={phX: X, phY:y})\n",
    "    if i % 100 == 0:\n",
    "        print(f\"Iteration {i}. Cost: {c}\")"
   ]
  },
  {
   "cell_type": "code",
   "execution_count": 83,
   "metadata": {},
   "outputs": [
    {
     "name": "stdout",
     "output_type": "stream",
     "text": [
      "Prediction: \n",
      "[[1.]\n",
      " [1.]\n",
      " [0.]\n",
      " [0.]]\n"
     ]
    }
   ],
   "source": [
    "prediction = sess.run(preds, feed_dict={phX: X})\n",
    "print(\"Prediction: \")\n",
    "print(np.round(prediction))"
   ]
  },
  {
   "cell_type": "code",
   "execution_count": 84,
   "metadata": {},
   "outputs": [
    {
     "name": "stdout",
     "output_type": "stream",
     "text": [
      "Accuracy 1.0\n"
     ]
    }
   ],
   "source": [
    "correct_pred = tf.equal(tf.argmax(preds,1), tf.argmax(phY,1))\n",
    "accuracy = tf.reduce_mean(tf.cast(correct_pred, tf.float32))\n",
    "acc = accuracy.eval({phX: X, phY: y})\n",
    "print(f\"Accuracy {acc}\")"
   ]
  },
  {
   "cell_type": "code",
   "execution_count": null,
   "metadata": {},
   "outputs": [],
   "source": []
  }
 ],
 "metadata": {
  "kernelspec": {
   "display_name": "Python 3",
   "language": "python",
   "name": "python3"
  },
  "language_info": {
   "codemirror_mode": {
    "name": "ipython",
    "version": 3
   },
   "file_extension": ".py",
   "mimetype": "text/x-python",
   "name": "python",
   "nbconvert_exporter": "python",
   "pygments_lexer": "ipython3",
   "version": "3.7.3"
  }
 },
 "nbformat": 4,
 "nbformat_minor": 2
}
